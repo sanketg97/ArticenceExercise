{
 "cells": [
  {
   "cell_type": "code",
   "execution_count": 2,
   "metadata": {},
   "outputs": [],
   "source": [
    "import pandas as pd\n",
    "import numpy as np\n",
    "import matplotlib.pyplot as plt"
   ]
  },
  {
   "cell_type": "code",
   "execution_count": 3,
   "metadata": {},
   "outputs": [],
   "source": [
    "df = pd.read_csv('DSE.csv')"
   ]
  },
  {
   "cell_type": "markdown",
   "metadata": {},
   "source": [
    "## Question:\n",
    "### Which products should be dropped from selling in the next year moving forward and which products should be sold more?"
   ]
  },
  {
   "cell_type": "markdown",
   "metadata": {},
   "source": [
    "To understand which products should be dropped from selling in the next year moving forward and which products should be sold more we can look at the profitability of each of the item type:"
   ]
  },
  {
   "cell_type": "code",
   "execution_count": 4,
   "metadata": {},
   "outputs": [
    {
     "data": {
      "text/plain": [
       "<AxesSubplot:xlabel='Item Type'>"
      ]
     },
     "execution_count": 4,
     "metadata": {},
     "output_type": "execute_result"
    },
    {
     "data": {
      "image/png": "[encoded data removed]",
      "text/plain": [
       "<Figure size 432x288 with 1 Axes>"
      ]
     },
     "metadata": {
      "needs_background": "light"
     },
     "output_type": "display_data"
    }
   ],
   "source": [
    "item_list =  df.groupby('Item Type')['Profit as % of Cost'].mean()\n",
    "item_list.sort_values(ascending = False, inplace = True)\n",
    "item_list.plot(kind = 'bar')"
   ]
  },
  {
   "cell_type": "markdown",
   "metadata": {},
   "source": [
    "We can see that Clothes are the most profitable item types in the given data with profit margins considerably higher than the other item types like cereal, vegetables, etc.\n",
    "\n",
    "On the other hand, Meat products have the least profit margin.\n",
    "\n",
    "\n",
    "Let's look at the region-wise profitability of each of the item types to comment on which of the products should be focussed on and which products can be dropped due to low profitability."
   ]
  },
  {
   "cell_type": "code",
   "execution_count": 5,
   "metadata": {},
   "outputs": [
    {
     "data": {
      "text/plain": [
       "Region                             Item Type\n",
       "Australia and Oceania              Meat         0.156846\n",
       "North America                      Meat         0.156846\n",
       "Central America and the Caribbean  Meat         0.156846\n",
       "Middle East and North Africa       Meat         0.156846\n",
       "Asia                               Meat         0.156846\n",
       "                                                  ...   \n",
       "Central America and the Caribbean  Clothes      2.049107\n",
       "North America                      Clothes      2.049107\n",
       "Sub-Saharan Africa                 Clothes      2.049107\n",
       "Europe                             Clothes      2.049107\n",
       "Australia and Oceania              Clothes      2.049107\n",
       "Name: Profit as % of Cost, Length: 84, dtype: float64"
      ]
     },
     "execution_count": 5,
     "metadata": {},
     "output_type": "execute_result"
    }
   ],
   "source": [
    "item_region_list =  df.groupby(['Region','Item Type'])['Profit as % of Cost'].mean()\n",
    "item_region_list.to_frame()\n",
    "item_region_list.sort_values()"
   ]
  },
  {
   "cell_type": "markdown",
   "metadata": {},
   "source": [
    "As we can see the overall trend is continued in our region-wise analysis as well, with Meat products being the least profitable and Clothes being the most profitable across all regions.\n",
    "\n",
    "This makes sense intuitively as well because clothes are not perishable items and thus the shipping and storage costs associated with clothes will be much less than the costs associated with the meat products.\n",
    "\n",
    "#### Thus, looking at the data, we can say that clothes should be given preference while meat can be dropped from the item list for the next year."
   ]
  },
  {
   "cell_type": "markdown",
   "metadata": {},
   "source": [
    "## Question:"
   ]
  },
  {
   "cell_type": "markdown",
   "metadata": {},
   "source": [
    "### Should any region be given preference over the other?"
   ]
  },
  {
   "cell_type": "code",
   "execution_count": 6,
   "metadata": {},
   "outputs": [
    {
     "data": {
      "text/plain": [
       "<AxesSubplot:xlabel='Region'>"
      ]
     },
     "execution_count": 6,
     "metadata": {},
     "output_type": "execute_result"
    },
    {
     "data": {
      "image/png": "[encoded data removed]",
      "text/plain": [
       "<Figure size 432x288 with 1 Axes>"
      ]
     },
     "metadata": {
      "needs_background": "light"
     },
     "output_type": "display_data"
    }
   ],
   "source": [
    "region_list =  df.groupby('Region')['Profit as % of Cost'].mean()\n",
    "region_list.sort_values(ascending = False, inplace = True)\n",
    "region_list.plot(kind = 'bar')"
   ]
  },
  {
   "cell_type": "code",
   "execution_count": 7,
   "metadata": {},
   "outputs": [
    {
     "data": {
      "text/plain": [
       "Region\n",
       "North America                        0.616335\n",
       "Sub-Saharan Africa                   0.613292\n",
       "Asia                                 0.613162\n",
       "Central America and the Caribbean    0.611853\n",
       "Europe                               0.610915\n",
       "Australia and Oceania                0.606901\n",
       "Middle East and North Africa         0.602093\n",
       "Name: Profit as % of Cost, dtype: float64"
      ]
     },
     "execution_count": 7,
     "metadata": {},
     "output_type": "execute_result"
    }
   ],
   "source": [
    "region_list"
   ]
  },
  {
   "cell_type": "markdown",
   "metadata": {},
   "source": [
    "While the average profit percentage on items sold is similar across all the regions, we can look at the total profit in each of the regions to find out which regions are the major sources of profit for the companny."
   ]
  },
  {
   "cell_type": "code",
   "execution_count": 8,
   "metadata": {},
   "outputs": [
    {
     "data": {
      "text/plain": [
       "<AxesSubplot:xlabel='Region'>"
      ]
     },
     "execution_count": 8,
     "metadata": {},
     "output_type": "execute_result"
    },
    {
     "data": {
      "image/png": "[encoded data removed]",
      "text/plain": [
       "<Figure size 432x288 with 1 Axes>"
      ]
     },
     "metadata": {
      "needs_background": "light"
     },
     "output_type": "display_data"
    }
   ],
   "source": [
    "region_profit_list =  df.groupby('Region')['Total Profit'].sum()\n",
    "region_profit_list.sort_values(ascending = False, inplace = True)\n",
    "region_profit_list.plot(kind = 'bar')"
   ]
  },
  {
   "cell_type": "markdown",
   "metadata": {},
   "source": [
    "We can see that Europe and Sub-Saharan Africa are the biggest sources of profit, whereas North America contributes least to the profits of the company.\n",
    "\n",
    "To further analyze if there is a trend in profit distribution across the years, we can look at the profit percentages for every region across the 8 year period."
   ]
  },
  {
   "cell_type": "code",
   "execution_count": 9,
   "metadata": {},
   "outputs": [
    {
     "data": {
      "text/plain": [
       "Region                             Fiscal Year\n",
       "Asia                               2010           0.612257\n",
       "                                   2011           0.623655\n",
       "                                   2012           0.599875\n",
       "                                   2013           0.626162\n",
       "                                   2014           0.612539\n",
       "                                   2015           0.607315\n",
       "                                   2016           0.608798\n",
       "                                   2017           0.616189\n",
       "Australia and Oceania              2010           0.625979\n",
       "                                   2011           0.595503\n",
       "                                   2012           0.635246\n",
       "                                   2013           0.586141\n",
       "                                   2014           0.582620\n",
       "                                   2015           0.616889\n",
       "                                   2016           0.597974\n",
       "                                   2017           0.621769\n",
       "Central America and the Caribbean  2010           0.607194\n",
       "                                   2011           0.599154\n",
       "                                   2012           0.639289\n",
       "                                   2013           0.626914\n",
       "                                   2014           0.612037\n",
       "                                   2015           0.585143\n",
       "                                   2016           0.619679\n",
       "                                   2017           0.602543\n",
       "Europe                             2010           0.621562\n",
       "                                   2011           0.625333\n",
       "                                   2012           0.603423\n",
       "                                   2013           0.598143\n",
       "                                   2014           0.608834\n",
       "                                   2015           0.608770\n",
       "                                   2016           0.615124\n",
       "                                   2017           0.602414\n",
       "Middle East and North Africa       2010           0.590051\n",
       "                                   2011           0.614410\n",
       "                                   2012           0.603965\n",
       "                                   2013           0.604804\n",
       "                                   2014           0.588489\n",
       "                                   2015           0.595654\n",
       "                                   2016           0.612567\n",
       "                                   2017           0.609953\n",
       "North America                      2010           0.639299\n",
       "                                   2011           0.597680\n",
       "                                   2012           0.607406\n",
       "                                   2013           0.615505\n",
       "                                   2014           0.690964\n",
       "                                   2015           0.594264\n",
       "                                   2016           0.559533\n",
       "                                   2017           0.635224\n",
       "Sub-Saharan Africa                 2010           0.595902\n",
       "                                   2011           0.609518\n",
       "                                   2012           0.598528\n",
       "                                   2013           0.618638\n",
       "                                   2014           0.611330\n",
       "                                   2015           0.613838\n",
       "                                   2016           0.634590\n",
       "                                   2017           0.632564\n",
       "Name: Profit as % of Cost, dtype: float64"
      ]
     },
     "execution_count": 9,
     "metadata": {},
     "output_type": "execute_result"
    }
   ],
   "source": [
    "region_yearly_list =  df.groupby(['Region','Fiscal Year'])['Profit as % of Cost'].mean()\n",
    "region_yearly_list"
   ]
  },
  {
   "cell_type": "markdown",
   "metadata": {},
   "source": [
    "#### Looking at the profit percentages over the 8 year period, we can observe the following: \n",
    "#### 1. The profit percentage in Europe has seen a decline over the time period falling from 0.62% in 2010 to 0.60% in 2017.\n",
    "#### 2. In the same time period, Sub-Saharan Africa has shown an increase in profit percentage from 0.59% in 2010 to 0.63% in 2017.\n",
    "#### 3. All other regions have shown no significant increase or decrease in the profit percentage numbers.\n",
    "\n",
    "#### Thus, looking at the total profit and profit as a % of cost numbers, the Sub-Saharan Africa region stands out as it has not only shown increase in profitability in the time period but is also one of the top regions by the amount of profit it generates. \n",
    "#### Hence, the Sub-Saharan Africa region should be given preference over the other regions."
   ]
  },
  {
   "cell_type": "markdown",
   "metadata": {},
   "source": [
    "## Question:"
   ]
  },
  {
   "cell_type": "markdown",
   "metadata": {},
   "source": [
    "### Which products are the easiest to sell?"
   ]
  },
  {
   "cell_type": "code",
   "execution_count": 10,
   "metadata": {},
   "outputs": [
    {
     "data": {
      "text/html": [
       "<div>\n",
       "<style scoped>\n",
       "    .dataframe tbody tr th:only-of-type {\n",
       "        vertical-align: middle;\n",
       "    }\n",
       "\n",
       "    .dataframe tbody tr th {\n",
       "        vertical-align: top;\n",
       "    }\n",
       "\n",
       "    .dataframe thead th {\n",
       "        text-align: right;\n",
       "    }\n",
       "</style>\n",
       "<table border=\"1\" class=\"dataframe\">\n",
       "  <thead>\n",
       "    <tr style=\"text-align: right;\">\n",
       "      <th></th>\n",
       "      <th>Region</th>\n",
       "      <th>Country</th>\n",
       "      <th>Item Type</th>\n",
       "      <th>Fiscal Year</th>\n",
       "      <th>Sales Channel</th>\n",
       "      <th>Order Priority</th>\n",
       "      <th>Order Date</th>\n",
       "      <th>Order ID</th>\n",
       "      <th>Ship Date</th>\n",
       "      <th>Units Sold</th>\n",
       "      <th>Unit Price</th>\n",
       "      <th>Unit Cost</th>\n",
       "      <th>Total Revenue</th>\n",
       "      <th>Total Cost</th>\n",
       "      <th>Total Profit</th>\n",
       "      <th>Profit as % of Cost</th>\n",
       "      <th>Time_to_ship</th>\n",
       "    </tr>\n",
       "  </thead>\n",
       "  <tbody>\n",
       "    <tr>\n",
       "      <th>32067</th>\n",
       "      <td>Sub-Saharan Africa</td>\n",
       "      <td>Chad</td>\n",
       "      <td>Cereal</td>\n",
       "      <td>2012</td>\n",
       "      <td>Offline</td>\n",
       "      <td>H</td>\n",
       "      <td>2012-12-23</td>\n",
       "      <td>524854934</td>\n",
       "      <td>2012-12-23</td>\n",
       "      <td>5093</td>\n",
       "      <td>205.70</td>\n",
       "      <td>117.11</td>\n",
       "      <td>1047630.10</td>\n",
       "      <td>596441.23</td>\n",
       "      <td>451188.87</td>\n",
       "      <td>0.756468</td>\n",
       "      <td>0 days</td>\n",
       "    </tr>\n",
       "    <tr>\n",
       "      <th>18430</th>\n",
       "      <td>Sub-Saharan Africa</td>\n",
       "      <td>Guinea</td>\n",
       "      <td>Meat</td>\n",
       "      <td>2013</td>\n",
       "      <td>Offline</td>\n",
       "      <td>L</td>\n",
       "      <td>2013-05-22</td>\n",
       "      <td>300411117</td>\n",
       "      <td>2013-05-22</td>\n",
       "      <td>7180</td>\n",
       "      <td>421.89</td>\n",
       "      <td>364.69</td>\n",
       "      <td>3029170.20</td>\n",
       "      <td>2618474.20</td>\n",
       "      <td>410696.00</td>\n",
       "      <td>0.156846</td>\n",
       "      <td>0 days</td>\n",
       "    </tr>\n",
       "    <tr>\n",
       "      <th>47580</th>\n",
       "      <td>Asia</td>\n",
       "      <td>Sri Lanka</td>\n",
       "      <td>Cosmetics</td>\n",
       "      <td>2012</td>\n",
       "      <td>Offline</td>\n",
       "      <td>M</td>\n",
       "      <td>2012-09-22</td>\n",
       "      <td>793228185</td>\n",
       "      <td>2012-09-22</td>\n",
       "      <td>2702</td>\n",
       "      <td>437.20</td>\n",
       "      <td>263.33</td>\n",
       "      <td>1181314.40</td>\n",
       "      <td>711517.66</td>\n",
       "      <td>469796.74</td>\n",
       "      <td>0.660274</td>\n",
       "      <td>0 days</td>\n",
       "    </tr>\n",
       "    <tr>\n",
       "      <th>8635</th>\n",
       "      <td>Sub-Saharan Africa</td>\n",
       "      <td>Mozambique</td>\n",
       "      <td>Baby Food</td>\n",
       "      <td>2013</td>\n",
       "      <td>Offline</td>\n",
       "      <td>H</td>\n",
       "      <td>2013-06-18</td>\n",
       "      <td>587924182</td>\n",
       "      <td>2013-06-18</td>\n",
       "      <td>8685</td>\n",
       "      <td>255.28</td>\n",
       "      <td>159.42</td>\n",
       "      <td>2217106.80</td>\n",
       "      <td>1384562.70</td>\n",
       "      <td>832544.10</td>\n",
       "      <td>0.601305</td>\n",
       "      <td>0 days</td>\n",
       "    </tr>\n",
       "    <tr>\n",
       "      <th>18447</th>\n",
       "      <td>Europe</td>\n",
       "      <td>Malta</td>\n",
       "      <td>Beverages</td>\n",
       "      <td>2010</td>\n",
       "      <td>Offline</td>\n",
       "      <td>C</td>\n",
       "      <td>2010-11-06</td>\n",
       "      <td>604477488</td>\n",
       "      <td>2010-11-06</td>\n",
       "      <td>7177</td>\n",
       "      <td>47.45</td>\n",
       "      <td>31.79</td>\n",
       "      <td>340548.65</td>\n",
       "      <td>228156.83</td>\n",
       "      <td>112391.82</td>\n",
       "      <td>0.492608</td>\n",
       "      <td>0 days</td>\n",
       "    </tr>\n",
       "    <tr>\n",
       "      <th>...</th>\n",
       "      <td>...</td>\n",
       "      <td>...</td>\n",
       "      <td>...</td>\n",
       "      <td>...</td>\n",
       "      <td>...</td>\n",
       "      <td>...</td>\n",
       "      <td>...</td>\n",
       "      <td>...</td>\n",
       "      <td>...</td>\n",
       "      <td>...</td>\n",
       "      <td>...</td>\n",
       "      <td>...</td>\n",
       "      <td>...</td>\n",
       "      <td>...</td>\n",
       "      <td>...</td>\n",
       "      <td>...</td>\n",
       "      <td>...</td>\n",
       "    </tr>\n",
       "    <tr>\n",
       "      <th>57210</th>\n",
       "      <td>Middle East and North Africa</td>\n",
       "      <td>Israel</td>\n",
       "      <td>Office Supplies</td>\n",
       "      <td>2013</td>\n",
       "      <td>Offline</td>\n",
       "      <td>L</td>\n",
       "      <td>2013-12-20</td>\n",
       "      <td>726482808</td>\n",
       "      <td>2014-02-08</td>\n",
       "      <td>1262</td>\n",
       "      <td>651.21</td>\n",
       "      <td>524.96</td>\n",
       "      <td>821827.02</td>\n",
       "      <td>662499.52</td>\n",
       "      <td>159327.50</td>\n",
       "      <td>0.240495</td>\n",
       "      <td>50 days</td>\n",
       "    </tr>\n",
       "    <tr>\n",
       "      <th>32931</th>\n",
       "      <td>Sub-Saharan Africa</td>\n",
       "      <td>Gabon</td>\n",
       "      <td>Beverages</td>\n",
       "      <td>2012</td>\n",
       "      <td>Online</td>\n",
       "      <td>M</td>\n",
       "      <td>2012-08-23</td>\n",
       "      <td>737139976</td>\n",
       "      <td>2012-10-12</td>\n",
       "      <td>4954</td>\n",
       "      <td>47.45</td>\n",
       "      <td>31.79</td>\n",
       "      <td>235067.30</td>\n",
       "      <td>157487.66</td>\n",
       "      <td>77579.64</td>\n",
       "      <td>0.492608</td>\n",
       "      <td>50 days</td>\n",
       "    </tr>\n",
       "    <tr>\n",
       "      <th>32928</th>\n",
       "      <td>Central America and the Caribbean</td>\n",
       "      <td>Jamaica</td>\n",
       "      <td>Cereal</td>\n",
       "      <td>2016</td>\n",
       "      <td>Offline</td>\n",
       "      <td>M</td>\n",
       "      <td>2016-12-24</td>\n",
       "      <td>189394700</td>\n",
       "      <td>2017-02-12</td>\n",
       "      <td>4955</td>\n",
       "      <td>205.70</td>\n",
       "      <td>117.11</td>\n",
       "      <td>1019243.50</td>\n",
       "      <td>580280.05</td>\n",
       "      <td>438963.45</td>\n",
       "      <td>0.756468</td>\n",
       "      <td>50 days</td>\n",
       "    </tr>\n",
       "    <tr>\n",
       "      <th>28287</th>\n",
       "      <td>Europe</td>\n",
       "      <td>Austria</td>\n",
       "      <td>Personal Care</td>\n",
       "      <td>2010</td>\n",
       "      <td>Offline</td>\n",
       "      <td>H</td>\n",
       "      <td>2010-07-24</td>\n",
       "      <td>584669911</td>\n",
       "      <td>2010-09-12</td>\n",
       "      <td>5674</td>\n",
       "      <td>81.73</td>\n",
       "      <td>56.67</td>\n",
       "      <td>463736.02</td>\n",
       "      <td>321545.58</td>\n",
       "      <td>142190.44</td>\n",
       "      <td>0.442209</td>\n",
       "      <td>50 days</td>\n",
       "    </tr>\n",
       "    <tr>\n",
       "      <th>12403</th>\n",
       "      <td>Europe</td>\n",
       "      <td>Norway</td>\n",
       "      <td>Household</td>\n",
       "      <td>2011</td>\n",
       "      <td>Offline</td>\n",
       "      <td>H</td>\n",
       "      <td>2011-07-26</td>\n",
       "      <td>853836667</td>\n",
       "      <td>2011-09-14</td>\n",
       "      <td>8099</td>\n",
       "      <td>668.27</td>\n",
       "      <td>502.54</td>\n",
       "      <td>5412318.73</td>\n",
       "      <td>4070071.46</td>\n",
       "      <td>1342247.27</td>\n",
       "      <td>0.329785</td>\n",
       "      <td>50 days</td>\n",
       "    </tr>\n",
       "  </tbody>\n",
       "</table>\n",
       "<p>65535 rows × 17 columns</p>\n",
       "</div>"
      ],
      "text/plain": [
       "                                  Region     Country        Item Type  \\\n",
       "32067                 Sub-Saharan Africa        Chad           Cereal   \n",
       "18430                 Sub-Saharan Africa      Guinea             Meat   \n",
       "47580                               Asia   Sri Lanka        Cosmetics   \n",
       "8635                  Sub-Saharan Africa  Mozambique        Baby Food   \n",
       "18447                             Europe       Malta        Beverages   \n",
       "...                                  ...         ...              ...   \n",
       "57210       Middle East and North Africa      Israel  Office Supplies   \n",
       "32931                 Sub-Saharan Africa       Gabon        Beverages   \n",
       "32928  Central America and the Caribbean     Jamaica           Cereal   \n",
       "28287                             Europe     Austria    Personal Care   \n",
       "12403                             Europe      Norway        Household   \n",
       "\n",
       "       Fiscal Year Sales Channel Order Priority Order Date   Order ID  \\\n",
       "32067         2012       Offline              H 2012-12-23  524854934   \n",
       "18430         2013       Offline              L 2013-05-22  300411117   \n",
       "47580         2012       Offline              M 2012-09-22  793228185   \n",
       "8635          2013       Offline              H 2013-06-18  587924182   \n",
       "18447         2010       Offline              C 2010-11-06  604477488   \n",
       "...            ...           ...            ...        ...        ...   \n",
       "57210         2013       Offline              L 2013-12-20  726482808   \n",
       "32931         2012        Online              M 2012-08-23  737139976   \n",
       "32928         2016       Offline              M 2016-12-24  189394700   \n",
       "28287         2010       Offline              H 2010-07-24  584669911   \n",
       "12403         2011       Offline              H 2011-07-26  853836667   \n",
       "\n",
       "       Ship Date  Units Sold  Unit Price  Unit Cost  Total Revenue  \\\n",
       "32067 2012-12-23        5093      205.70     117.11     1047630.10   \n",
       "18430 2013-05-22        7180      421.89     364.69     3029170.20   \n",
       "47580 2012-09-22        2702      437.20     263.33     1181314.40   \n",
       "8635  2013-06-18        8685      255.28     159.42     2217106.80   \n",
       "18447 2010-11-06        7177       47.45      31.79      340548.65   \n",
       "...          ...         ...         ...        ...            ...   \n",
       "57210 2014-02-08        1262      651.21     524.96      821827.02   \n",
       "32931 2012-10-12        4954       47.45      31.79      235067.30   \n",
       "32928 2017-02-12        4955      205.70     117.11     1019243.50   \n",
       "28287 2010-09-12        5674       81.73      56.67      463736.02   \n",
       "12403 2011-09-14        8099      668.27     502.54     5412318.73   \n",
       "\n",
       "       Total Cost  Total Profit  Profit as % of Cost Time_to_ship  \n",
       "32067   596441.23     451188.87             0.756468       0 days  \n",
       "18430  2618474.20     410696.00             0.156846       0 days  \n",
       "47580   711517.66     469796.74             0.660274       0 days  \n",
       "8635   1384562.70     832544.10             0.601305       0 days  \n",
       "18447   228156.83     112391.82             0.492608       0 days  \n",
       "...           ...           ...                  ...          ...  \n",
       "57210   662499.52     159327.50             0.240495      50 days  \n",
       "32931   157487.66      77579.64             0.492608      50 days  \n",
       "32928   580280.05     438963.45             0.756468      50 days  \n",
       "28287   321545.58     142190.44             0.442209      50 days  \n",
       "12403  4070071.46    1342247.27             0.329785      50 days  \n",
       "\n",
       "[65535 rows x 17 columns]"
      ]
     },
     "execution_count": 10,
     "metadata": {},
     "output_type": "execute_result"
    }
   ],
   "source": [
    "df['Order Date'] = pd.to_datetime(df['Order Date'])\n",
    "df['Ship Date'] = pd.to_datetime(df['Ship Date'])\n",
    "df['Time_to_ship'] = df['Ship Date'] - df['Order Date']\n",
    "df.sort_values(by = ['Time_to_ship'])"
   ]
  },
  {
   "cell_type": "markdown",
   "metadata": {},
   "source": [
    "Looking at the dataframe, we can see some of the products are shipped within the same day, whereas some products take as much as 50 days to ship. However, we cannot see any specific relationship between the type of product and the days it is taking to get shipped. \n",
    "Let us check if we can find any relationship between different regions and the time for products to get shipped according to the item type and region."
   ]
  },
  {
   "cell_type": "code",
   "execution_count": null,
   "metadata": {},
   "outputs": [],
   "source": [
    "df['Time_to_ship'] = df['Time_to_ship'].astype(str)\n",
    "df[\"Time_to_ship\"]= df[\"Time_to_ship\"].str.split(\" \", n = 1, expand = True)\n",
    "df['Time_to_ship'] = df['Time_to_ship'].astype(int)"
   ]
  },
  {
   "cell_type": "code",
   "execution_count": 16,
   "metadata": {},
   "outputs": [],
   "source": [
    "shipping_list =  df.groupby(by = ['Region','Item Type'])['Time_to_ship'].mean()"
   ]
  },
  {
   "cell_type": "code",
   "execution_count": 17,
   "metadata": {},
   "outputs": [
    {
     "data": {
      "text/plain": [
       "Region                             Item Type      \n",
       "Australia and Oceania              Fruits             22.933180\n",
       "North America                      Cereal             22.946903\n",
       "Central America and the Caribbean  Cosmetics          23.968284\n",
       "Australia and Oceania              Cosmetics          24.000000\n",
       "Middle East and North Africa       Office Supplies    24.091822\n",
       "                                                        ...    \n",
       "Australia and Oceania              Vegetables         26.161731\n",
       "Europe                             Office Supplies    26.169410\n",
       "North America                      Personal Care      26.240602\n",
       "                                   Baby Food          26.434426\n",
       "                                   Meat               27.085271\n",
       "Name: Time_to_ship, Length: 84, dtype: float64"
      ]
     },
     "execution_count": 17,
     "metadata": {},
     "output_type": "execute_result"
    }
   ],
   "source": [
    "shipping_list.to_frame()\n",
    "shipping_list.sort_values()"
   ]
  },
  {
   "cell_type": "markdown",
   "metadata": {},
   "source": [
    "Here too, we cannot see any specific relationship between the type of product, the regions and the days the item is taking to get shipped. "
   ]
  }
 ],
 "metadata": {
  "kernelspec": {
   "display_name": "Python 3",
   "language": "python",
   "name": "python3"
  },
  "language_info": {
   "codemirror_mode": {
    "name": "ipython",
    "version": 3
   },
   "file_extension": ".py",
   "mimetype": "text/x-python",
   "name": "python",
   "nbconvert_exporter": "python",
   "pygments_lexer": "ipython3",
   "version": "3.8.5"
  }
 },
 "nbformat": 4,
 "nbformat_minor": 4
}
